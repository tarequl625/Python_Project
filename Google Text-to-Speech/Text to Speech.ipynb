{
 "cells": [
  {
   "cell_type": "code",
   "execution_count": 2,
   "id": "b928d25f-036b-4069-8c28-ff59b5bb92a5",
   "metadata": {},
   "outputs": [],
   "source": [
    "from gtts import gTTS"
   ]
  },
  {
   "cell_type": "code",
   "execution_count": 3,
   "id": "dccbf714-b135-42ad-a218-288eab19476f",
   "metadata": {},
   "outputs": [],
   "source": [
    "text = \"\"\"Good morning, my name is Md. Tarequl Islam. I am pursuing a Bachelor’s degree in Computer Science and Engineering, graduating in 2027. \n",
    "My university classes are only on Friday, which makes me fully available Saturday through Thursday for work. Along with my studies, I have developed strong skills in data analysis using Python, SQL, Excel, and Power BI. I also have a solid foundation in statistics, probability, and mathematics, which helps me interpret and analyze data effectively.\n",
    "\n",
    "Currently, I am gaining professional exposure at Odin Outsourcing using Excel & Macro. I am passionate about transforming raw data into meaningful insights that support business decisions, and I’m looking forward to contributing my analytical and problem-solving skills as a Data Analyst.\"\"\""
   ]
  },
  {
   "cell_type": "code",
   "execution_count": 4,
   "id": "65a87447-6235-4579-851b-1d8be5da8825",
   "metadata": {},
   "outputs": [
    {
     "name": "stdout",
     "output_type": "stream",
     "text": [
      "Audio created successfully!\n"
     ]
    }
   ],
   "source": [
    "# Create TTS object\n",
    "tts = gTTS(text,lang='en')\n",
    "# Save audio file\n",
    "tts.save(r\"D:\\introducion.mp3\")\n",
    "print(\"Audio created successfully!\")"
   ]
  },
  {
   "cell_type": "code",
   "execution_count": null,
   "id": "ea3e7ef9-c495-425b-a667-6edbf5e4559c",
   "metadata": {},
   "outputs": [],
   "source": []
  }
 ],
 "metadata": {
  "kernelspec": {
   "display_name": "Python 3 (ipykernel)",
   "language": "python",
   "name": "python3"
  },
  "language_info": {
   "codemirror_mode": {
    "name": "ipython",
    "version": 3
   },
   "file_extension": ".py",
   "mimetype": "text/x-python",
   "name": "python",
   "nbconvert_exporter": "python",
   "pygments_lexer": "ipython3",
   "version": "3.13.5"
  }
 },
 "nbformat": 4,
 "nbformat_minor": 5
}
