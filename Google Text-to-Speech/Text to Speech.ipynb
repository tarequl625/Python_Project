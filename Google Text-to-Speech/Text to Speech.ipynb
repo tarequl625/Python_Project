{
 "cells": [
  {
   "cell_type": "code",
   "execution_count": 1,
   "id": "b928d25f-036b-4069-8c28-ff59b5bb92a5",
   "metadata": {},
   "outputs": [],
   "source": [
    "# gtts module cannot work offline.\n",
    "from gtts import gTTS"
   ]
  },
  {
   "cell_type": "code",
   "execution_count": 12,
   "id": "dccbf714-b135-42ad-a218-288eab19476f",
   "metadata": {},
   "outputs": [],
   "source": [
    "text = \"\"\"My name is Md Tarequl Islam. I am pursuing a Bachelor’s degree in Computer Science and Engineering graduating in 2027.\n",
    "My university classes are only on Friday which makes me fully available Saturday through Thursday for work. Along with my studies I have developed strong skills in data analysis using Python SQL Excel and Power BI. I also have a solid foundation in statistics probability and mathematics which helps me interpret and analyze data effectively.\n",
    "Currently I am gaining professional exposure at Odin Outsourcing using Excel & VBA. I am passionate about transforming raw data into meaningful insights that support business decisions, and I’m looking forward to contributing my analytical and problem-solving skills as a Data Analyst.\"\"\""
   ]
  },
  {
   "cell_type": "code",
   "execution_count": null,
   "id": "65a87447-6235-4579-851b-1d8be5da8825",
   "metadata": {},
   "outputs": [],
   "source": [
    "# Create TTS object\n",
    "tts = gTTS(text,lang='en')\n",
    "# Save audio file\n",
    "tts.save(r\"D:\\introducion.mp3\")\n",
    "print(\"Audio created successfully!\")"
   ]
  },
  {
   "cell_type": "code",
   "execution_count": null,
   "id": "ea3e7ef9-c495-425b-a667-6edbf5e4559c",
   "metadata": {},
   "outputs": [],
   "source": []
  }
 ],
 "metadata": {
  "kernelspec": {
   "display_name": "Python 3 (ipykernel)",
   "language": "python",
   "name": "python3"
  },
  "language_info": {
   "codemirror_mode": {
    "name": "ipython",
    "version": 3
   },
   "file_extension": ".py",
   "mimetype": "text/x-python",
   "name": "python",
   "nbconvert_exporter": "python",
   "pygments_lexer": "ipython3",
   "version": "3.13.5"
  }
 },
 "nbformat": 4,
 "nbformat_minor": 5
}
